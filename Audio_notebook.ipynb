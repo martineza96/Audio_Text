{
 "cells": [
  {
   "cell_type": "code",
   "execution_count": 3,
   "id": "097da64c-945c-4fa4-ae98-96da3d6e4daa",
   "metadata": {},
   "outputs": [],
   "source": [
    "import speech_recognition as sr"
   ]
  },
  {
   "cell_type": "code",
   "execution_count": 5,
   "id": "e8147024-0ddd-4426-8a7c-e94c8601d6ad",
   "metadata": {},
   "outputs": [],
   "source": [
    "file = '272 Tenth St 1.37.50 PM.wav'"
   ]
  },
  {
   "cell_type": "code",
   "execution_count": 7,
   "id": "48ee631b-4d4e-4771-98b4-35a00db1669b",
   "metadata": {},
   "outputs": [],
   "source": [
    "r = sr.Recognizer()"
   ]
  },
  {
   "cell_type": "code",
   "execution_count": 8,
   "id": "56a92178-eec7-48d7-b015-eb99509b72a8",
   "metadata": {},
   "outputs": [
    {
     "name": "stdout",
     "output_type": "stream",
     "text": [
      "this is a test a test of audio 123 321\n"
     ]
    }
   ],
   "source": [
    "with sr.AudioFile(file) as source:\n",
    "    # record data (Load Data audio to memory)\n",
    "    audio_data = r.record(source)\n",
    "    #recognize (Convert from speech to text)\n",
    "    text = r.recognize_google(audio_data)\n",
    "    print(text)"
   ]
  },
  {
   "cell_type": "code",
   "execution_count": 11,
   "id": "a327ff3d-6ce9-4220-9574-53ddfdff2967",
   "metadata": {},
   "outputs": [
    {
     "name": "stdout",
     "output_type": "stream",
     "text": [
      "Recognizing...\n",
      "well this is working I just want to try to see if it picks up on the words that I\n"
     ]
    }
   ],
   "source": [
    "#For mac brew install port audio & pip install pyaudio\n",
    "#For Linux sudo apt-get install python-pyaudio python3-pyaudio & pip install pyaudio\n",
    "\n",
    "\n",
    "with sr.Microphone() as source:\n",
    "    # read the audio data from the default microphone\n",
    "    audio_data = r.record(source, duration=5)\n",
    "    print(\"Recognizing...\")\n",
    "    # convert speech to text\n",
    "    text = r.recognize_google(audio_data)\n",
    "    print(text)"
   ]
  },
  {
   "cell_type": "code",
   "execution_count": null,
   "id": "35a8cdf1-4caa-45a9-b7ad-525184827ae9",
   "metadata": {},
   "outputs": [],
   "source": []
  }
 ],
 "metadata": {
  "kernelspec": {
   "display_name": "Python 3",
   "language": "python",
   "name": "python3"
  },
  "language_info": {
   "codemirror_mode": {
    "name": "ipython",
    "version": 3
   },
   "file_extension": ".py",
   "mimetype": "text/x-python",
   "name": "python",
   "nbconvert_exporter": "python",
   "pygments_lexer": "ipython3",
   "version": "3.7.7"
  }
 },
 "nbformat": 4,
 "nbformat_minor": 5
}
